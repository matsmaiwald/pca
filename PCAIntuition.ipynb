{
  "cells": [
    {
      "cell_type": "code",
      "execution_count": null,
      "metadata": {
        "id": "rZ4xpf0pN_ji"
      },
      "outputs": [],
      "source": [
        "import numpy as np\n",
        "import pandas as pd\n",
        "from scipy.linalg import eigh, eig\n",
        "from numpy.linalg import inv\n",
        "import plotly.express as px\n",
        "from matplotlib import pyplot as plt\n",
        "import seaborn as sns; sns.set()"
      ]
    },
    {
      "cell_type": "code",
      "execution_count": null,
      "metadata": {
        "id": "jLrB6bAjo2IH"
      },
      "outputs": [],
      "source": [
        "N=400"
      ]
    },
    {
      "cell_type": "markdown",
      "metadata": {
        "id": "YloY-z-tct9r"
      },
      "source": [
        "\n",
        "# Generating data\n"
      ]
    },
    {
      "cell_type": "code",
      "execution_count": null,
      "metadata": {
        "id": "BFwv7uhZODqW"
      },
      "outputs": [],
      "source": [
        "data = pd.DataFrame(np.random.normal(loc=3,size=N, scale=2),columns=[\"var1\"])"
      ]
    },
    {
      "cell_type": "code",
      "execution_count": null,
      "metadata": {
        "colab": {
          "base_uri": "https://localhost:8080/",
          "height": 424
        },
        "id": "BHBYpZ-ioguK",
        "outputId": "b10a9909-106e-430b-a432-53cbdd503794"
      },
      "outputs": [
        {
          "data": {
            "text/html": [
              "<div>\n",
              "<style scoped>\n",
              "    .dataframe tbody tr th:only-of-type {\n",
              "        vertical-align: middle;\n",
              "    }\n",
              "\n",
              "    .dataframe tbody tr th {\n",
              "        vertical-align: top;\n",
              "    }\n",
              "\n",
              "    .dataframe thead th {\n",
              "        text-align: right;\n",
              "    }\n",
              "</style>\n",
              "<table border=\"1\" class=\"dataframe\">\n",
              "  <thead>\n",
              "    <tr style=\"text-align: right;\">\n",
              "      <th></th>\n",
              "      <th>var1</th>\n",
              "      <th>var2</th>\n",
              "    </tr>\n",
              "  </thead>\n",
              "  <tbody>\n",
              "    <tr>\n",
              "      <th>0</th>\n",
              "      <td>1.851225</td>\n",
              "      <td>0.508614</td>\n",
              "    </tr>\n",
              "    <tr>\n",
              "      <th>1</th>\n",
              "      <td>3.686237</td>\n",
              "      <td>4.360240</td>\n",
              "    </tr>\n",
              "    <tr>\n",
              "      <th>2</th>\n",
              "      <td>0.570491</td>\n",
              "      <td>0.471810</td>\n",
              "    </tr>\n",
              "    <tr>\n",
              "      <th>3</th>\n",
              "      <td>3.917526</td>\n",
              "      <td>2.280945</td>\n",
              "    </tr>\n",
              "    <tr>\n",
              "      <th>4</th>\n",
              "      <td>4.174098</td>\n",
              "      <td>3.172170</td>\n",
              "    </tr>\n",
              "    <tr>\n",
              "      <th>...</th>\n",
              "      <td>...</td>\n",
              "      <td>...</td>\n",
              "    </tr>\n",
              "    <tr>\n",
              "      <th>395</th>\n",
              "      <td>5.253711</td>\n",
              "      <td>6.436793</td>\n",
              "    </tr>\n",
              "    <tr>\n",
              "      <th>396</th>\n",
              "      <td>-0.655619</td>\n",
              "      <td>-0.447060</td>\n",
              "    </tr>\n",
              "    <tr>\n",
              "      <th>397</th>\n",
              "      <td>3.430097</td>\n",
              "      <td>0.953135</td>\n",
              "    </tr>\n",
              "    <tr>\n",
              "      <th>398</th>\n",
              "      <td>-1.622313</td>\n",
              "      <td>-0.135733</td>\n",
              "    </tr>\n",
              "    <tr>\n",
              "      <th>399</th>\n",
              "      <td>2.221745</td>\n",
              "      <td>2.958333</td>\n",
              "    </tr>\n",
              "  </tbody>\n",
              "</table>\n",
              "<p>400 rows × 2 columns</p>\n",
              "</div>"
            ],
            "text/plain": [
              "         var1      var2\n",
              "0    1.851225  0.508614\n",
              "1    3.686237  4.360240\n",
              "2    0.570491  0.471810\n",
              "3    3.917526  2.280945\n",
              "4    4.174098  3.172170\n",
              "..        ...       ...\n",
              "395  5.253711  6.436793\n",
              "396 -0.655619 -0.447060\n",
              "397  3.430097  0.953135\n",
              "398 -1.622313 -0.135733\n",
              "399  2.221745  2.958333\n",
              "\n",
              "[400 rows x 2 columns]"
            ]
          },
          "execution_count": 4,
          "metadata": {
            "tags": []
          },
          "output_type": "execute_result"
        }
      ],
      "source": [
        "data[\"var2\"] = data[\"var1\"] + np.random.normal(0, 1, N)\n",
        "data = data[[\"var1\", \"var2\"]]\n",
        "data"
      ]
    },
    {
      "cell_type": "code",
      "execution_count": null,
      "metadata": {
        "colab": {
          "base_uri": "https://localhost:8080/",
          "height": 300
        },
        "id": "tH8cahPvnzCK",
        "outputId": "d079b200-c73a-41c4-a48e-1aa439d0f6fc"
      },
      "outputs": [
        {
          "data": {
            "text/html": [
              "<div>\n",
              "<style scoped>\n",
              "    .dataframe tbody tr th:only-of-type {\n",
              "        vertical-align: middle;\n",
              "    }\n",
              "\n",
              "    .dataframe tbody tr th {\n",
              "        vertical-align: top;\n",
              "    }\n",
              "\n",
              "    .dataframe thead th {\n",
              "        text-align: right;\n",
              "    }\n",
              "</style>\n",
              "<table border=\"1\" class=\"dataframe\">\n",
              "  <thead>\n",
              "    <tr style=\"text-align: right;\">\n",
              "      <th></th>\n",
              "      <th>var1</th>\n",
              "      <th>var2</th>\n",
              "    </tr>\n",
              "  </thead>\n",
              "  <tbody>\n",
              "    <tr>\n",
              "      <th>count</th>\n",
              "      <td>400.000000</td>\n",
              "      <td>400.000000</td>\n",
              "    </tr>\n",
              "    <tr>\n",
              "      <th>mean</th>\n",
              "      <td>3.139301</td>\n",
              "      <td>3.174087</td>\n",
              "    </tr>\n",
              "    <tr>\n",
              "      <th>std</th>\n",
              "      <td>2.201689</td>\n",
              "      <td>2.370409</td>\n",
              "    </tr>\n",
              "    <tr>\n",
              "      <th>min</th>\n",
              "      <td>-2.529362</td>\n",
              "      <td>-2.735350</td>\n",
              "    </tr>\n",
              "    <tr>\n",
              "      <th>25%</th>\n",
              "      <td>1.566343</td>\n",
              "      <td>1.596064</td>\n",
              "    </tr>\n",
              "    <tr>\n",
              "      <th>50%</th>\n",
              "      <td>3.113002</td>\n",
              "      <td>3.064169</td>\n",
              "    </tr>\n",
              "    <tr>\n",
              "      <th>75%</th>\n",
              "      <td>4.716690</td>\n",
              "      <td>4.761894</td>\n",
              "    </tr>\n",
              "    <tr>\n",
              "      <th>max</th>\n",
              "      <td>10.445350</td>\n",
              "      <td>11.082322</td>\n",
              "    </tr>\n",
              "  </tbody>\n",
              "</table>\n",
              "</div>"
            ],
            "text/plain": [
              "             var1        var2\n",
              "count  400.000000  400.000000\n",
              "mean     3.139301    3.174087\n",
              "std      2.201689    2.370409\n",
              "min     -2.529362   -2.735350\n",
              "25%      1.566343    1.596064\n",
              "50%      3.113002    3.064169\n",
              "75%      4.716690    4.761894\n",
              "max     10.445350   11.082322"
            ]
          },
          "execution_count": 5,
          "metadata": {
            "tags": []
          },
          "output_type": "execute_result"
        }
      ],
      "source": [
        "data.describe()"
      ]
    },
    {
      "cell_type": "markdown",
      "metadata": {
        "id": "rCAg3VI9HoAP"
      },
      "source": [
        "# Standardising the data"
      ]
    },
    {
      "cell_type": "code",
      "execution_count": null,
      "metadata": {
        "id": "2sy1BfbBHq1U"
      },
      "outputs": [],
      "source": [
        "data -= data.mean()\n",
        "data /= data.std()"
      ]
    },
    {
      "cell_type": "markdown",
      "metadata": {
        "id": "zldX2CVDc4gz"
      },
      "source": [
        "# Plotting the data\n",
        "TODO: fix plot"
      ]
    },
    {
      "cell_type": "code",
      "execution_count": null,
      "metadata": {
        "colab": {
          "base_uri": "https://localhost:8080/",
          "height": 344
        },
        "id": "olBg8P7Jhg_D",
        "outputId": "0a8defda-0995-46ca-9622-af9271da1f94"
      },
      "outputs": [
        {
          "name": "stderr",
          "output_type": "stream",
          "text": [
            "*c* argument looks like a single numeric RGB or RGBA sequence, which should be avoided as value-mapping will have precedence in case its length matches with *x* & *y*.  Please use the *color* keyword-argument or provide a 2-D array with a single row if you intend to specify the same RGB or RGBA value for all points.\n"
          ]
        },
        {
          "data": {
            "text/plain": [
              "[(-3.0, 3.0)]"
            ]
          },
          "execution_count": 7,
          "metadata": {
            "tags": []
          },
          "output_type": "execute_result"
        },
        {
          "data": {
            "image/png": "[encoded data removed]",
            "text/plain": [
              "<Figure size 432x288 with 1 Axes>"
            ]
          },
          "metadata": {
            "needs_background": "light",
            "tags": []
          },
          "output_type": "display_data"
        }
      ],
      "source": [
        "fig, ax = plt.subplots()\n",
        "data.plot.scatter(x=\"var1\", y=\"var2\", ax=ax)\n",
        "ax.set(xlim=[-4,4])\n",
        "ax.set(ylim=[-3,3])"
      ]
    },
    {
      "cell_type": "markdown",
      "metadata": {
        "id": "7JnbK0rodKV_"
      },
      "source": [
        "# Obtain standardised Variance-Covariance Matrix"
      ]
    },
    {
      "cell_type": "code",
      "execution_count": null,
      "metadata": {
        "id": "41WAZ2dtPB8C"
      },
      "outputs": [],
      "source": [
        "# define X as kxN matrix\n",
        "X=data.values[:,0:2].T"
      ]
    },
    {
      "cell_type": "code",
      "execution_count": null,
      "metadata": {
        "colab": {
          "base_uri": "https://localhost:8080/"
        },
        "id": "jEqtSd5BPKW-",
        "outputId": "94429fa8-0cea-48f3-e11d-0204ce1de36b"
      },
      "outputs": [
        {
          "data": {
            "text/plain": [
              "array([[1.        , 0.90723631],\n",
              "       [0.90723631, 1.        ]])"
            ]
          },
          "execution_count": 9,
          "metadata": {
            "tags": []
          },
          "output_type": "execute_result"
        }
      ],
      "source": [
        "varcov = np.matmul(X, X.T) / (N-1)\n",
        "varcov"
      ]
    },
    {
      "cell_type": "code",
      "execution_count": null,
      "metadata": {
        "colab": {
          "base_uri": "https://localhost:8080/"
        },
        "id": "MlmQ4-9gpM3N",
        "outputId": "2c5b867c-7d00-4948-f485-5f10d561975f"
      },
      "outputs": [
        {
          "data": {
            "text/plain": [
              "array([[1.        , 0.90723631],\n",
              "       [0.90723631, 1.        ]])"
            ]
          },
          "execution_count": 10,
          "metadata": {
            "tags": []
          },
          "output_type": "execute_result"
        }
      ],
      "source": [
        "np.cov(X)"
      ]
    },
    {
      "cell_type": "markdown",
      "metadata": {
        "id": "_eU6cUmXdg_e"
      },
      "source": [
        "# Find Principal Components i.e. Eigenvectors of Variance Covariance Matrix"
      ]
    },
    {
      "cell_type": "code",
      "execution_count": null,
      "metadata": {
        "colab": {
          "base_uri": "https://localhost:8080/"
        },
        "id": "Jvxt5imvPueL",
        "outputId": "13abda60-a977-486e-9d3a-6544cbf90fba"
      },
      "outputs": [
        {
          "name": "stdout",
          "output_type": "stream",
          "text": [
            "Matrix with Eigenvectors as columns:  [[ 0.70710678 -0.70710678]\n",
            " [ 0.70710678  0.70710678]]\n",
            "Eigenvalues:  [1.90723631+0.j 0.09276369+0.j]\n"
          ]
        }
      ],
      "source": [
        "evals,evecs=eig(varcov)\n",
        "indices = np.argsort(evals)[::-1] # Sorting by size of eigenvalue\n",
        "evecs = evecs[:,indices]\n",
        "evals = evals[indices]\n",
        "print(\"Matrix with Eigenvectors as columns: \", evecs)\n",
        "print(\"Eigenvalues: \", evals)"
      ]
    },
    {
      "cell_type": "code",
      "execution_count": null,
      "metadata": {
        "colab": {
          "base_uri": "https://localhost:8080/"
        },
        "id": "kMrizzIdqKSH",
        "outputId": "a3d83a9a-5c59-49f9-9470-8d9e318d2566"
      },
      "outputs": [
        {
          "data": {
            "text/plain": [
              "array([0.70710678, 0.70710678])"
            ]
          },
          "execution_count": 12,
          "metadata": {
            "tags": []
          },
          "output_type": "execute_result"
        }
      ],
      "source": [
        "evecs[:,0]"
      ]
    },
    {
      "cell_type": "code",
      "execution_count": null,
      "metadata": {
        "colab": {
          "base_uri": "https://localhost:8080/"
        },
        "id": "_YZ0O3cOEYq_",
        "outputId": "36b84135-ef66-429f-cdc9-78590d6c865a"
      },
      "outputs": [
        {
          "data": {
            "text/plain": [
              "array([-0.70710678,  0.70710678])"
            ]
          },
          "execution_count": 13,
          "metadata": {
            "tags": []
          },
          "output_type": "execute_result"
        }
      ],
      "source": [
        "evecs[:,1]"
      ]
    },
    {
      "cell_type": "markdown",
      "metadata": {
        "id": "Z9uApwaHHG_e"
      },
      "source": [
        "Verifying that eigenvectors are orthogonal"
      ]
    },
    {
      "cell_type": "code",
      "execution_count": null,
      "metadata": {
        "colab": {
          "base_uri": "https://localhost:8080/"
        },
        "id": "02TRhdySHPjN",
        "outputId": "2282b1be-1d22-4a1f-be06-9b771a12b10d"
      },
      "outputs": [
        {
          "data": {
            "text/plain": [
              "2.2371143170757382e-17"
            ]
          },
          "execution_count": 14,
          "metadata": {
            "tags": []
          },
          "output_type": "execute_result"
        }
      ],
      "source": [
        "np.dot(evecs[:,0], evecs[:,1])"
      ]
    },
    {
      "cell_type": "markdown",
      "metadata": {
        "id": "8DFEenNjyVQ7"
      },
      "source": [
        "Verifying that we can diagonalise the variance covariance matrix with its eigenvectors."
      ]
    },
    {
      "cell_type": "code",
      "execution_count": null,
      "metadata": {
        "colab": {
          "base_uri": "https://localhost:8080/"
        },
        "id": "fI3UULOsQKI2",
        "outputId": "59d4323f-ce59-41a7-e16a-219fac31d3b0"
      },
      "outputs": [
        {
          "data": {
            "text/plain": [
              "array([[ 1.90723631e+00, -1.62602838e-16],\n",
              "       [-2.09157727e-16,  9.27636930e-02]])"
            ]
          },
          "execution_count": 15,
          "metadata": {
            "tags": []
          },
          "output_type": "execute_result"
        }
      ],
      "source": [
        "diag_var_cov = np.matmul(np.matmul(inv(evecs),varcov), evecs)\n",
        "diag_var_cov"
      ]
    },
    {
      "cell_type": "markdown",
      "metadata": {
        "id": "N33gcppHCPcS"
      },
      "source": [
        "Verifying that our obtained eig vectors are the same as the output from sklearns pca object."
      ]
    },
    {
      "cell_type": "code",
      "execution_count": null,
      "metadata": {
        "colab": {
          "base_uri": "https://localhost:8080/"
        },
        "id": "1QNHN2kDk5N_",
        "outputId": "18498e10-6d5f-4c84-b841-5c8abffd6eaf"
      },
      "outputs": [
        {
          "data": {
            "text/plain": [
              "array([[ 0.70710678,  0.70710678],\n",
              "       [-0.70710678,  0.70710678]])"
            ]
          },
          "execution_count": 16,
          "metadata": {
            "tags": []
          },
          "output_type": "execute_result"
        }
      ],
      "source": [
        "from sklearn.decomposition import PCA\n",
        "pca = PCA(n_components=2)\n",
        "data_check = pca.fit(X.T)\n",
        "data_check.components_"
      ]
    },
    {
      "cell_type": "markdown",
      "metadata": {
        "id": "RqUqfULlClQq"
      },
      "source": [
        "# Drawing data plus principal components"
      ]
    },
    {
      "cell_type": "code",
      "execution_count": null,
      "metadata": {
        "colab": {
          "base_uri": "https://localhost:8080/",
          "height": 112
        },
        "id": "QMIHGruKJLIF",
        "outputId": "870b4677-ceb0-44f8-fb41-9039a555d1de"
      },
      "outputs": [
        {
          "data": {
            "text/html": [
              "<div>\n",
              "<style scoped>\n",
              "    .dataframe tbody tr th:only-of-type {\n",
              "        vertical-align: middle;\n",
              "    }\n",
              "\n",
              "    .dataframe tbody tr th {\n",
              "        vertical-align: top;\n",
              "    }\n",
              "\n",
              "    .dataframe thead th {\n",
              "        text-align: right;\n",
              "    }\n",
              "</style>\n",
              "<table border=\"1\" class=\"dataframe\">\n",
              "  <thead>\n",
              "    <tr style=\"text-align: right;\">\n",
              "      <th></th>\n",
              "      <th>var1</th>\n",
              "      <th>var2</th>\n",
              "    </tr>\n",
              "  </thead>\n",
              "  <tbody>\n",
              "    <tr>\n",
              "      <th>0</th>\n",
              "      <td>-0.585040</td>\n",
              "      <td>-1.124478</td>\n",
              "    </tr>\n",
              "    <tr>\n",
              "      <th>1</th>\n",
              "      <td>0.248416</td>\n",
              "      <td>0.500400</td>\n",
              "    </tr>\n",
              "  </tbody>\n",
              "</table>\n",
              "</div>"
            ],
            "text/plain": [
              "       var1      var2\n",
              "0 -0.585040 -1.124478\n",
              "1  0.248416  0.500400"
            ]
          },
          "execution_count": 17,
          "metadata": {
            "tags": []
          },
          "output_type": "execute_result"
        }
      ],
      "source": [
        "data.iloc[0:2,:]"
      ]
    },
    {
      "cell_type": "code",
      "execution_count": null,
      "metadata": {
        "colab": {
          "base_uri": "https://localhost:8080/",
          "height": 344
        },
        "id": "8z-K1gWY2O9T",
        "outputId": "a4e2b9b2-f5fd-4744-90b6-81952cf6aae6"
      },
      "outputs": [
        {
          "name": "stderr",
          "output_type": "stream",
          "text": [
            "*c* argument looks like a single numeric RGB or RGBA sequence, which should be avoided as value-mapping will have precedence in case its length matches with *x* & *y*.  Please use the *color* keyword-argument or provide a 2-D array with a single row if you intend to specify the same RGB or RGBA value for all points.\n"
          ]
        },
        {
          "data": {
            "text/plain": [
              "[(-3.0, 3.0)]"
            ]
          },
          "execution_count": 28,
          "metadata": {
            "tags": []
          },
          "output_type": "execute_result"
        },
        {
          "data": {
            "image/png": "[encoded data removed]",
            "text/plain": [
              "<Figure size 432x288 with 1 Axes>"
            ]
          },
          "metadata": {
            "needs_background": "light",
            "tags": []
          },
          "output_type": "display_data"
        }
      ],
      "source": [
        "def draw_vector(v0, v1, ax=None):\n",
        "    ax = ax or plt.gca()\n",
        "    arrowprops=dict(arrowstyle='->',\n",
        "                    linewidth=2,\n",
        "                    shrinkA=0, shrinkB=0, color=\"r\")\n",
        "    ax.annotate('', v1, v0, arrowprops=arrowprops)\n",
        "fig, ax = plt.subplots()\n",
        "# plot data\n",
        "data.plot.scatter(x=\"var1\", y=\"var2\", ax=ax)\n",
        "for vector in evecs:\n",
        "    v = vector * 3\n",
        "    draw_vector([0, 0], [0, 0] + v, ax=ax)\n",
        "plt.axis('equal');\n",
        "ax.set(xlim=[-4,4])\n",
        "ax.set(ylim=[-3,3])\n"
      ]
    },
    {
      "cell_type": "markdown",
      "metadata": {
        "id": "GsW4iKnj1co9"
      },
      "source": [
        "# Projecting the data onto the principal components"
      ]
    },
    {
      "cell_type": "code",
      "execution_count": null,
      "metadata": {
        "id": "XHUMY92O_MQL"
      },
      "outputs": [],
      "source": [
        "def get_eig_projections(X: np.array, eig_vec: np.array) -> np.array:\n",
        "  \"\"\"\n",
        "  X: kxN matrix of data\n",
        "  eig_vec: kx1 eigen vector of variance covariance matrix associated with X\n",
        "  \"\"\"\n",
        "  # scalar projection as 1xN matrix\n",
        "  scalar_proj = np.dot(eig_vec.T, X)\n",
        "  # vector projections as kxN matrix\n",
        "  vector_projections = np.matmul(eig_vec[:,np.newaxis], scalar_proj[np.newaxis,:])\n",
        "  return vector_projections\n"
      ]
    },
    {
      "cell_type": "code",
      "execution_count": null,
      "metadata": {
        "id": "vw2GpZ6CvYXn"
      },
      "outputs": [],
      "source": [
        "def plot_eig_projections(X: np.array, eig_vec: np.array) -> None:\n",
        "  vector_projections = get_eig_projections(X, eig_vec)\n",
        "  df_plot = pd.DataFrame(data=X.T, columns=[\"var1\", \"var2\"])\n",
        "  fig, ax = plt.subplots()\n",
        "  df_plot.plot.scatter(x=\"var1\", y=\"var2\", ax=ax, alpha=0.2)\n",
        "  df_plot.iloc[0:3,:].plot.scatter(x=\"var1\", y=\"var2\", ax=ax, alpha=1, color=\"orange\", s=120)\n",
        "  pd.DataFrame(vector_projections.T, columns=[\"var1\", \"var2\"]).plot.scatter(x=\"var1\", y=\"var2\", ax=ax, color=\"r\", alpha=0.4)\n",
        "  pd.DataFrame(vector_projections.T, columns=[\"var1\", \"var2\"]).iloc[0:3,:].plot.scatter(x=\"var1\", y=\"var2\", ax=ax, color=\"orange\", alpha=1, marker=\"x\", s=120)\n",
        "  ax.set(xlim=[-4,4])\n",
        "  ax.set(ylim=[-3,3])"
      ]
    },
    {
      "cell_type": "code",
      "execution_count": null,
      "metadata": {
        "colab": {
          "base_uri": "https://localhost:8080/",
          "height": 326
        },
        "id": "S1FR0cqXwgwX",
        "outputId": "77e0f400-8ba2-49d9-bb7b-0c9146669ae6"
      },
      "outputs": [
        {
          "name": "stderr",
          "output_type": "stream",
          "text": [
            "*c* argument looks like a single numeric RGB or RGBA sequence, which should be avoided as value-mapping will have precedence in case its length matches with *x* & *y*.  Please use the *color* keyword-argument or provide a 2-D array with a single row if you intend to specify the same RGB or RGBA value for all points.\n"
          ]
        },
        {
          "data": {
            "image/png": "[encoded data removed]",
            "text/plain": [
              "<Figure size 432x288 with 1 Axes>"
            ]
          },
          "metadata": {
            "needs_background": "light",
            "tags": []
          },
          "output_type": "display_data"
        }
      ],
      "source": [
        "plot_eig_projections(X,evecs[:,0])"
      ]
    },
    {
      "cell_type": "code",
      "execution_count": null,
      "metadata": {
        "colab": {
          "base_uri": "https://localhost:8080/",
          "height": 326
        },
        "id": "P5DPCzTfxZtB",
        "outputId": "1fb4b66c-303b-4dae-b52e-919bb67cb119"
      },
      "outputs": [
        {
          "name": "stderr",
          "output_type": "stream",
          "text": [
            "*c* argument looks like a single numeric RGB or RGBA sequence, which should be avoided as value-mapping will have precedence in case its length matches with *x* & *y*.  Please use the *color* keyword-argument or provide a 2-D array with a single row if you intend to specify the same RGB or RGBA value for all points.\n"
          ]
        },
        {
          "data": {
            "image/png": "[encoded data removed]",
            "text/plain": [
              "<Figure size 432x288 with 1 Axes>"
            ]
          },
          "metadata": {
            "needs_background": "light",
            "tags": []
          },
          "output_type": "display_data"
        }
      ],
      "source": [
        "plot_eig_projections(X,evecs[:,1])"
      ]
    },
    {
      "cell_type": "code",
      "execution_count": null,
      "metadata": {
        "colab": {
          "base_uri": "https://localhost:8080/",
          "height": 424
        },
        "id": "cRSSJ3EhRZOx",
        "outputId": "59b6edf3-21aa-4b03-b111-1be7c375b552"
      },
      "outputs": [
        {
          "data": {
            "text/html": [
              "<div>\n",
              "<style scoped>\n",
              "    .dataframe tbody tr th:only-of-type {\n",
              "        vertical-align: middle;\n",
              "    }\n",
              "\n",
              "    .dataframe tbody tr th {\n",
              "        vertical-align: top;\n",
              "    }\n",
              "\n",
              "    .dataframe thead th {\n",
              "        text-align: right;\n",
              "    }\n",
              "</style>\n",
              "<table border=\"1\" class=\"dataframe\">\n",
              "  <thead>\n",
              "    <tr style=\"text-align: right;\">\n",
              "      <th></th>\n",
              "      <th>var1</th>\n",
              "      <th>var2</th>\n",
              "    </tr>\n",
              "  </thead>\n",
              "  <tbody>\n",
              "    <tr>\n",
              "      <th>0</th>\n",
              "      <td>-0.585040</td>\n",
              "      <td>-1.124478</td>\n",
              "    </tr>\n",
              "    <tr>\n",
              "      <th>1</th>\n",
              "      <td>0.248416</td>\n",
              "      <td>0.500400</td>\n",
              "    </tr>\n",
              "    <tr>\n",
              "      <th>2</th>\n",
              "      <td>-1.166745</td>\n",
              "      <td>-1.140004</td>\n",
              "    </tr>\n",
              "    <tr>\n",
              "      <th>3</th>\n",
              "      <td>0.353467</td>\n",
              "      <td>-0.376788</td>\n",
              "    </tr>\n",
              "    <tr>\n",
              "      <th>4</th>\n",
              "      <td>0.470002</td>\n",
              "      <td>-0.000808</td>\n",
              "    </tr>\n",
              "    <tr>\n",
              "      <th>...</th>\n",
              "      <td>...</td>\n",
              "      <td>...</td>\n",
              "    </tr>\n",
              "    <tr>\n",
              "      <th>395</th>\n",
              "      <td>0.960358</td>\n",
              "      <td>1.376432</td>\n",
              "    </tr>\n",
              "    <tr>\n",
              "      <th>396</th>\n",
              "      <td>-1.723640</td>\n",
              "      <td>-1.527647</td>\n",
              "    </tr>\n",
              "    <tr>\n",
              "      <th>397</th>\n",
              "      <td>0.132079</td>\n",
              "      <td>-0.936949</td>\n",
              "    </tr>\n",
              "    <tr>\n",
              "      <th>398</th>\n",
              "      <td>-2.162709</td>\n",
              "      <td>-1.396308</td>\n",
              "    </tr>\n",
              "    <tr>\n",
              "      <th>399</th>\n",
              "      <td>-0.416751</td>\n",
              "      <td>-0.091019</td>\n",
              "    </tr>\n",
              "  </tbody>\n",
              "</table>\n",
              "<p>400 rows × 2 columns</p>\n",
              "</div>"
            ],
            "text/plain": [
              "         var1      var2\n",
              "0   -0.585040 -1.124478\n",
              "1    0.248416  0.500400\n",
              "2   -1.166745 -1.140004\n",
              "3    0.353467 -0.376788\n",
              "4    0.470002 -0.000808\n",
              "..        ...       ...\n",
              "395  0.960358  1.376432\n",
              "396 -1.723640 -1.527647\n",
              "397  0.132079 -0.936949\n",
              "398 -2.162709 -1.396308\n",
              "399 -0.416751 -0.091019\n",
              "\n",
              "[400 rows x 2 columns]"
            ]
          },
          "execution_count": 23,
          "metadata": {
            "tags": []
          },
          "output_type": "execute_result"
        }
      ],
      "source": [
        "data_new = data.copy()\n",
        "data_new[[\"pc1\", \"pc2\"]]=pd.DataFrame(np.matmul(evecs[:,0:2].T, X).T, columns=[\"pc1\", \"pc2\"])\n",
        "data"
      ]
    },
    {
      "cell_type": "markdown",
      "metadata": {
        "id": "4X-TCGQj9T1_"
      },
      "source": [
        "# Checking covariance matrix of new data"
      ]
    },
    {
      "cell_type": "code",
      "execution_count": null,
      "metadata": {
        "colab": {
          "base_uri": "https://localhost:8080/"
        },
        "id": "LVrA0FKd9I6J",
        "outputId": "ef678a3f-98e2-4ebb-e15b-b3abf97a0571"
      },
      "outputs": [
        {
          "data": {
            "text/plain": [
              "array([[ 1.90723631e+00, -1.36343178e-17],\n",
              "       [-1.36343178e-17,  9.27636930e-02]])"
            ]
          },
          "execution_count": 24,
          "metadata": {
            "tags": []
          },
          "output_type": "execute_result"
        }
      ],
      "source": [
        "np.cov(data_new[[\"pc1\", \"pc2\"]].T)"
      ]
    },
    {
      "cell_type": "code",
      "execution_count": null,
      "metadata": {
        "colab": {
          "base_uri": "https://localhost:8080/",
          "height": 340
        },
        "id": "Xm2HGFQ_S5It",
        "outputId": "3c6fab3c-fa25-4359-e07d-ed015cb4dbab"
      },
      "outputs": [
        {
          "name": "stderr",
          "output_type": "stream",
          "text": [
            "*c* argument looks like a single numeric RGB or RGBA sequence, which should be avoided as value-mapping will have precedence in case its length matches with *x* & *y*.  Please use the *color* keyword-argument or provide a 2-D array with a single row if you intend to specify the same RGB or RGBA value for all points.\n"
          ]
        },
        {
          "data": {
            "text/plain": [
              "<matplotlib.axes._subplots.AxesSubplot at 0x7f1910296e50>"
            ]
          },
          "execution_count": 25,
          "metadata": {
            "tags": []
          },
          "output_type": "execute_result"
        },
        {
          "data": {
            "image/png": "[encoded data removed]",
            "text/plain": [
              "<Figure size 432x288 with 1 Axes>"
            ]
          },
          "metadata": {
            "needs_background": "light",
            "tags": []
          },
          "output_type": "display_data"
        }
      ],
      "source": [
        "data_new.plot.scatter(x=\"pc1\", y=\"var2\")"
      ]
    },
    {
      "cell_type": "code",
      "execution_count": null,
      "metadata": {
        "colab": {
          "base_uri": "https://localhost:8080/",
          "height": 340
        },
        "id": "gQwuvH8wndpm",
        "outputId": "fb0a2284-0526-4549-f82d-f3d4b2addcc6"
      },
      "outputs": [
        {
          "name": "stderr",
          "output_type": "stream",
          "text": [
            "*c* argument looks like a single numeric RGB or RGBA sequence, which should be avoided as value-mapping will have precedence in case its length matches with *x* & *y*.  Please use the *color* keyword-argument or provide a 2-D array with a single row if you intend to specify the same RGB or RGBA value for all points.\n"
          ]
        },
        {
          "data": {
            "text/plain": [
              "<matplotlib.axes._subplots.AxesSubplot at 0x7f19102da850>"
            ]
          },
          "execution_count": 26,
          "metadata": {
            "tags": []
          },
          "output_type": "execute_result"
        },
        {
          "data": {
            "image/png": "[encoded data removed]",
            "text/plain": [
              "<Figure size 432x288 with 1 Axes>"
            ]
          },
          "metadata": {
            "needs_background": "light",
            "tags": []
          },
          "output_type": "display_data"
        }
      ],
      "source": [
        "data_new.plot.scatter(x=\"pc2\", y=\"var2\")"
      ]
    },
    {
      "cell_type": "code",
      "execution_count": null,
      "metadata": {
        "colab": {
          "base_uri": "https://localhost:8080/",
          "height": 344
        },
        "id": "pHRQ3ot4tOxB",
        "outputId": "cfa01710-7084-435b-a4dd-55d5ef5bd06f"
      },
      "outputs": [
        {
          "name": "stderr",
          "output_type": "stream",
          "text": [
            "*c* argument looks like a single numeric RGB or RGBA sequence, which should be avoided as value-mapping will have precedence in case its length matches with *x* & *y*.  Please use the *color* keyword-argument or provide a 2-D array with a single row if you intend to specify the same RGB or RGBA value for all points.\n"
          ]
        },
        {
          "data": {
            "text/plain": [
              "[(-3.0, 3.0)]"
            ]
          },
          "execution_count": 30,
          "metadata": {
            "tags": []
          },
          "output_type": "execute_result"
        },
        {
          "data": {
            "image/png": "[encoded data removed]",
            "text/plain": [
              "<Figure size 432x288 with 1 Axes>"
            ]
          },
          "metadata": {
            "needs_background": "light",
            "tags": []
          },
          "output_type": "display_data"
        }
      ],
      "source": [
        "fig, ax = plt.subplots()\n",
        "data_new.plot.scatter(x=\"pc1\", y=\"pc2\", ax=ax)\n",
        "ax.set(xlim=[-4,4])\n",
        "ax.set(ylim=[-3,3])"
      ]
    }
  ],
  "metadata": {
    "colab": {
      "collapsed_sections": [],
      "name": "PCAExampleDimCorrection.ipynb",
      "provenance": []
    },
    "kernelspec": {
      "display_name": "Python 3",
      "name": "python3"
    },
    "language_info": {
      "name": "python"
    }
  },
  "nbformat": 4,
  "nbformat_minor": 0
}
